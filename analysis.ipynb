{
 "cells": [
  {
   "cell_type": "code",
   "execution_count": 1,
   "metadata": {},
   "outputs": [
    {
     "name": "stdout",
     "output_type": "stream",
     "text": [
      "Requirement already satisfied: python-dotenv in d:\\python\\lib\\site-packages (1.1.1)\n",
      "Note: you may need to restart the kernel to use updated packages.\n"
     ]
    }
   ],
   "source": [
    "%pip install python-dotenv"
   ]
  },
  {
   "cell_type": "code",
   "execution_count": null,
   "metadata": {},
   "outputs": [],
   "source": [
    "import os\n",
    "from dotenv import load_dotenv\n",
    "\n",
    "# تحميل المتغيرات من ملف .env\n",
    "load_dotenv()\n",
    "\n",
    "\n",
    "storage_account_key = os.getenv(\"AZURE_STORAGE_KEY\")\n",
    "\n",
    "\n",
    "if storage_account_key:\n",
    "    spark.conf.set(\n",
    "        \"fs.azure.account.key.kirostoragep1.dfs.core.windows.net\",\n",
    "        storage_account_key\n",
    "    )\n",
    "    spark.conf.set(\n",
    "        \"fs.azure.account.key.kirostoragep1.blob.core.windows.net\",\n",
    "        storage_account_key\n",
    "    )\n",
    "    print(\"✅\")\n",
    "else:\n",
    "    print(\"❌\")"
   ]
  },
  {
   "cell_type": "code",
   "execution_count": 0,
   "metadata": {
    "application/vnd.databricks.v1+cell": {
     "cellMetadata": {
      "byteLimit": 2048000,
      "rowLimit": 10000
     },
     "inputWidgets": {},
     "nuid": "1a10b95a-3e30-4d9c-8f56-d956c2e97e8d",
     "showTitle": false,
     "tableResultSettingsMap": {},
     "title": ""
    }
   },
   "outputs": [
    {
     "name": "stdout",
     "output_type": "stream",
     "text": [
      "+--------+--------------------+------------+\n",
      "|store_id|          store_name|    location|\n",
      "+--------+--------------------+------------+\n",
      "|       1|     City Mall Store|         UAE|\n",
      "|       2|   High Street Store|Saudi Arabia|\n",
      "|       3|   Tech World Outlet|       Qatar|\n",
      "|       4|Cairo Festival Ci...|       Egypt|\n",
      "|       5|          Mega Plaza|      Kuwait|\n",
      "+--------+--------------------+------------+\n",
      "\n"
     ]
    }
   ],
   "source": [
    "\n",
    "df_store = spark.read.parquet(\"abfss://filesp1@kirostoragep1.dfs.core.windows.net/dbo.stores.parquet\")\n",
    "\n",
    "\n",
    "df_store.show(5)"
   ]
  },
  {
   "cell_type": "code",
   "execution_count": 0,
   "metadata": {
    "application/vnd.databricks.v1+cell": {
     "cellMetadata": {
      "byteLimit": 2048000,
      "rowLimit": 10000
     },
     "inputWidgets": {},
     "nuid": "4bb164df-d39f-43b5-a208-4f3e7e0571c5",
     "showTitle": false,
     "tableResultSettingsMap": {},
     "title": ""
    }
   },
   "outputs": [
    {
     "name": "stdout",
     "output_type": "stream",
     "text": [
      "+--------------+-----------+----------+--------+--------+----------------+\n",
      "|transaction_id|customer_id|product_id|store_id|quantity|transaction_date|\n",
      "+--------------+-----------+----------+--------+--------+----------------+\n",
      "|            31|        101|         1|       1|       3|      2025-04-01|\n",
      "|            32|        102|         2|       2|       2|      2025-04-03|\n",
      "|            33|        103|         3|       3|       1|      2025-04-05|\n",
      "|            34|        104|         4|       4|       5|      2025-04-07|\n",
      "|            35|        105|         5|       5|       2|      2025-04-09|\n",
      "+--------------+-----------+----------+--------+--------+----------------+\n",
      "only showing top 5 rows\n"
     ]
    }
   ],
   "source": [
    "df_transections=spark.read.parquet(\"abfss://filesp1@kirostoragep1.dfs.core.windows.net/dbo.transactions.parquet\")\n",
    "df_transections.show(5)\n",
    "# https://kirostoragep1.blob.core.windows.net/filesp1/dbo.transactions.parquet"
   ]
  },
  {
   "cell_type": "code",
   "execution_count": 0,
   "metadata": {
    "application/vnd.databricks.v1+cell": {
     "cellMetadata": {
      "byteLimit": 2048000,
      "rowLimit": 10000
     },
     "inputWidgets": {},
     "nuid": "6c612cc7-8d37-4f48-af8d-81c110ba832e",
     "showTitle": false,
     "tableResultSettingsMap": {},
     "title": ""
    }
   },
   "outputs": [
    {
     "name": "stdout",
     "output_type": "stream",
     "text": [
      "+----------+-----------------+-----------+-----+\n",
      "|product_id|     product_name|   category|price|\n",
      "+----------+-----------------+-----------+-----+\n",
      "|         1|   Wireless Mouse|Electronics|  800|\n",
      "|         2|Bluetooth Speaker|Electronics| 1200|\n",
      "|         3|         Yoga Mat|    Fitness|  499|\n",
      "|         4|     Laptop Stand|Accessories|  999|\n",
      "|         5|     Notebook Set| Stationery|  149|\n",
      "+----------+-----------------+-----------+-----+\n",
      "only showing top 5 rows\n"
     ]
    }
   ],
   "source": [
    "df_products=spark.read.parquet(\"abfss://filesp1@kirostoragep1.dfs.core.windows.net/dbo.products.parquet\")\n",
    "df_products.show(5)"
   ]
  },
  {
   "cell_type": "code",
   "execution_count": 0,
   "metadata": {
    "application/vnd.databricks.v1+cell": {
     "cellMetadata": {
      "byteLimit": 2048000,
      "rowLimit": 10000
     },
     "inputWidgets": {},
     "nuid": "e7ee7b10-961f-4a19-80b3-bf06e34f0097",
     "showTitle": false,
     "tableResultSettingsMap": {},
     "title": ""
    }
   },
   "outputs": [
    {
     "name": "stdout",
     "output_type": "stream",
     "text": [
      "+-----------+----------------+--------------------+------------+-----------------+\n",
      "|customer_id|       full_name|               email|     country|registration_date|\n",
      "+-----------+----------------+--------------------+------------+-----------------+\n",
      "|       1001|    Ahmed Khaled|ahmed.khaled1@gma...|       Egypt|       2025-10-16|\n",
      "|       1002| Sara Al Mansour|sara.almansour2@o...|Saudi Arabia|       2025-10-18|\n",
      "|       1003|    Layla Kazemi|layla.kazemi3@yah...|         UAE|       2025-10-19|\n",
      "|       1004|     Omar Farouk|omar.farouk4@gmai...|       Egypt|       2025-10-17|\n",
      "|       1005|Fatima Al Rashid|fatima.alrashid5@...|Saudi Arabia|       2025-10-15|\n",
      "+-----------+----------------+--------------------+------------+-----------------+\n",
      "only showing top 5 rows\n"
     ]
    }
   ],
   "source": [
    "\n",
    "df_customers=spark.read.parquet(\"abfss://filesp1@kirostoragep1.dfs.core.windows.net/customers (2).parquet\")\n",
    "df_customers.show(5)"
   ]
  },
  {
   "cell_type": "code",
   "execution_count": 0,
   "metadata": {
    "application/vnd.databricks.v1+cell": {
     "cellMetadata": {
      "byteLimit": 2048000,
      "rowLimit": 10000
     },
     "inputWidgets": {},
     "nuid": "e4676668-9d6e-4bdd-abba-add044082b65",
     "showTitle": false,
     "tableResultSettingsMap": {},
     "title": ""
    }
   },
   "outputs": [
    {
     "name": "stdout",
     "output_type": "stream",
     "text": [
      "--- الداتا النهائية للعملاء (بعد إصلاح الـ ID) ---\n",
      "+-----------------+--------------------+---------+------------------+------------+-----------+-----------------+--------------------+------------+-----------------+\n",
      "|customer_id_fixed|total_monetary_value|frequency|last_purchase_date|recency_days|customer_id|        full_name|               email|     country|registration_date|\n",
      "+-----------------+--------------------+---------+------------------+------------+-----------+-----------------+--------------------+------------+-----------------+\n",
      "|             1025|                 149|        1|        2025-05-19|         164|       1025|      Huda Nasser|huda.nasser25@hot...|       Egypt|       2025-10-17|\n",
      "|             1005|                3898|        2|        2025-06-03|         149|       1005| Fatima Al Rashid|fatima.alrashid5@...|Saudi Arabia|       2025-10-15|\n",
      "|             1016|                1097|        2|        2025-06-25|         127|       1016|       Adel Nabil|adel.nabil16@gmai...|       Egypt|       2025-10-16|\n",
      "|             1019|                8594|        2|        2025-07-01|         121|       1019|     Nour Khalifa|nour.khalifa19@gm...|       Egypt|       2025-10-15|\n",
      "|             1008|                1346|        2|        2025-06-09|         143|       1008|   Hassan Al Saud|hassan.alsaud8@ou...|Saudi Arabia|       2025-10-19|\n",
      "|             1021|                3996|        2|        2025-07-05|         117|       1021|     Tariq Hassan|tariq.hassan21@gm...|         UAE|       2025-10-16|\n",
      "|             1026|                1196|        1|        2025-05-21|         162|       1026|Mohammed Al Amiri|mohammed.alamiri2...|Saudi Arabia|       2025-10-16|\n",
      "|             1010|               17992|        2|        2025-06-13|         139|       1010|       Tamer Adel|tamer.adel10@hotm...|       Egypt|       2025-10-17|\n",
      "|             1002|               12395|        2|        2025-05-27|         156|       1002|  Sara Al Mansour|sara.almansour2@o...|Saudi Arabia|       2025-10-18|\n",
      "|             1017|               28991|        2|        2025-06-27|         125|       1017|  Mariam Al Farsi|mariam.alfarsi17@...|Saudi Arabia|       2025-10-18|\n",
      "+-----------------+--------------------+---------+------------------+------------+-----------+-----------------+--------------------+------------+-----------------+\n",
      "only showing top 10 rows\n"
     ]
    }
   ],
   "source": [
    "from pyspark.sql.functions import col, sum, countDistinct, max, datediff, current_date, expr\n",
    "\n",
    "\n",
    "df_sales = df_transections.join(df_products, \"product_id\") \\\n",
    "                          .withColumn(\"total_sale_amount\", col(\"quantity\") * col(\"price\"))\n",
    "\n",
    "\n",
    "df_sales_fixed = df_sales.withColumn(\"customer_id_fixed\", col(\"customer_id\") + 900)\n",
    "\n",
    "\n",
    "\n",
    "\n",
    "df_customer_summary = df_sales_fixed.groupBy(\"customer_id_fixed\") \\\n",
    "                              .agg(\n",
    "                                  sum(\"total_sale_amount\").alias(\"total_monetary_value\"),\n",
    "                                  countDistinct(\"transaction_id\").alias(\"frequency\"),\n",
    "                                  max(\"transaction_date\").alias(\"last_purchase_date\")\n",
    "                              )\n",
    "\n",
    "\n",
    "df_customer_summary = df_customer_summary.withColumn(\"recency_days\", datediff(current_date(), col(\"last_purchase_date\")))\n",
    "\n",
    "\n",
    "df_final_customers = df_customer_summary.join(\n",
    "    df_customers,\n",
    "    df_customer_summary[\"customer_id_fixed\"] == df_customers[\"customer_id\"]\n",
    ")\n",
    "\n",
    "\n",
    "print(\"--- الداتا النهائية للعملاء (بعد إصلاح الـ ID) ---\")\n",
    "df_final_customers.show(10)"
   ]
  },
  {
   "cell_type": "code",
   "execution_count": 0,
   "metadata": {
    "application/vnd.databricks.v1+cell": {
     "cellMetadata": {
      "byteLimit": 2048000,
      "rowLimit": 10000
     },
     "inputWidgets": {},
     "nuid": "a77c374b-75b7-450e-93e8-8218f5bf23de",
     "showTitle": false,
     "tableResultSettingsMap": {},
     "title": ""
    }
   },
   "outputs": [
    {
     "name": "stdout",
     "output_type": "stream",
     "text": [
      "العملاء بعد التقسيم لطبقات:\n"
     ]
    },
    {
     "name": "stderr",
     "output_type": "stream",
     "text": [
      "/databricks/spark/python/pyspark/sql/connect/expressions.py:1061: UserWarning: WARN WindowExpression: No Partition Defined for Window operation! Moving all data to a single partition, this can cause serious performance degradation.\n",
      "  warnings.warn(\n"
     ]
    },
    {
     "name": "stdout",
     "output_type": "stream",
     "text": [
      "+-----------------+--------------------+---------+------------------+------------+-----------+----------------+--------------------+------------+-----------------+--------------------+-------------+\n",
      "|customer_id_fixed|total_monetary_value|frequency|last_purchase_date|recency_days|customer_id|       full_name|               email|     country|registration_date|                rank|Customer_Tier|\n",
      "+-----------------+--------------------+---------+------------------+------------+-----------+----------------+--------------------+------------+-----------------+--------------------+-------------+\n",
      "|             1017|               28991|        2|        2025-06-27|         125|       1017| Mariam Al Farsi|mariam.alfarsi17@...|Saudi Arabia|       2025-10-18|                 0.0|         Gold|\n",
      "|             1010|               17992|        2|        2025-06-13|         139|       1010|      Tamer Adel|tamer.adel10@hotm...|       Egypt|       2025-10-17|0.038461538461538464|         Gold|\n",
      "|             1020|               16195|        2|        2025-07-03|         119|       1020|      Yara Saleh|yara.saleh20@hotm...|Saudi Arabia|       2025-10-17| 0.07692307692307693|         Gold|\n",
      "|             1012|               14795|        2|        2025-06-17|         135|       1012|     Karim Hamed|karim.hamed12@yah...|         UAE|       2025-10-18| 0.11538461538461539|         Gold|\n",
      "|             1002|               12395|        2|        2025-05-27|         156|       1002| Sara Al Mansour|sara.almansour2@o...|Saudi Arabia|       2025-10-18| 0.15384615384615385|         Gold|\n",
      "|             1027|                9998|        1|        2025-05-23|         160|       1027|    Leila Hassan|leila.hassan27@ou...|         UAE|       2025-10-18| 0.19230769230769232|         Gold|\n",
      "|             1007|                9994|        2|        2025-06-07|         145|       1007|     Mona Hossam|mona.hossam7@yaho...|       Egypt|       2025-10-18| 0.23076923076923078|       Silver|\n",
      "|             1019|                8594|        2|        2025-07-01|         121|       1019|    Nour Khalifa|nour.khalifa19@gm...|       Egypt|       2025-10-15|  0.2692307692307692|       Silver|\n",
      "|             1022|                6799|        2|        2025-07-07|         115|       1022|      Lina Abdul|lina.abdul22@outl...|       Egypt|       2025-10-18|  0.3076923076923077|       Silver|\n",
      "|             1004|                6595|        2|        2025-06-01|         151|       1004|     Omar Farouk|omar.farouk4@gmai...|       Egypt|       2025-10-17| 0.34615384615384615|       Silver|\n",
      "|             1014|                5397|        2|        2025-06-21|         131|       1014|   Sami Al Obaid|sami.alobaid14@ou...|Saudi Arabia|       2025-10-15| 0.38461538461538464|       Silver|\n",
      "|             1024|                4995|        1|        2025-05-17|         166|       1024|     Samar Fouad|samar.fouad24@gma...|         UAE|       2025-10-15|  0.4230769230769231|       Silver|\n",
      "|             1009|                4596|        2|        2025-06-11|         141|       1009|     Ayesha Khan|ayesha.khan9@gmai...|         UAE|       2025-10-15| 0.46153846153846156|       Silver|\n",
      "|             1021|                3996|        2|        2025-07-05|         117|       1021|    Tariq Hassan|tariq.hassan21@gm...|         UAE|       2025-10-16|                 0.5|       Silver|\n",
      "|             1005|                3898|        2|        2025-06-03|         149|       1005|Fatima Al Rashid|fatima.alrashid5@...|Saudi Arabia|       2025-10-15|  0.5384615384615384|       Bronze|\n",
      "|             1001|                3597|        2|        2025-05-25|         158|       1001|    Ahmed Khaled|ahmed.khaled1@gma...|       Egypt|       2025-10-16|  0.5769230769230769|       Bronze|\n",
      "|             1006|                3192|        2|        2025-06-05|         147|       1006|   Yousef Nasser|yousef.nasser6@gm...|         UAE|       2025-10-16|  0.6153846153846154|       Bronze|\n",
      "|             1015|                2549|        2|        2025-06-23|         129|       1015|      Dina Samir|dina.samir15@hotm...|         UAE|       2025-10-17|  0.6538461538461539|       Bronze|\n",
      "|             1011|                2396|        2|        2025-06-15|         137|       1011|      Rania Saad|rania.saad11@gmai...|Saudi Arabia|       2025-10-16|  0.6923076923076923|       Bronze|\n",
      "|             1023|                2196|        2|        2025-07-09|         113|       1023| Rami Al Zahrani|rami.alzahrani23@...|Saudi Arabia|       2025-10-19|  0.7307692307692307|       Bronze|\n",
      "+-----------------+--------------------+---------+------------------+------------+-----------+----------------+--------------------+------------+-----------------+--------------------+-------------+\n",
      "only showing top 20 rows\n"
     ]
    }
   ],
   "source": [
    "from pyspark.sql.functions import percent_rank, when\n",
    "from pyspark.sql.window import Window\n",
    "\n",
    "\n",
    "windowSpec = Window.orderBy(col(\"total_monetary_value\").desc())\n",
    "df_ranked = df_final_customers.withColumn(\"rank\", percent_rank().over(windowSpec))\n",
    "\n",
    "\n",
    "df_segmented = df_ranked.withColumn(\"Customer_Tier\",\n",
    "    when(col(\"rank\") <= 0.20, \"Gold\")  # Top 20%\n",
    "    .when((col(\"rank\") > 0.20) & (col(\"rank\") <= 0.50), \"Silver\") # Next 30%\n",
    "    .otherwise(\"Bronze\") # Bottom 50%\n",
    ")\n",
    "\n",
    "\n",
    "print(\"العملاء بعد التقسيم لطبقات:\")\n",
    "df_segmented.show()"
   ]
  },
  {
   "cell_type": "code",
   "execution_count": 0,
   "metadata": {
    "application/vnd.databricks.v1+cell": {
     "cellMetadata": {
      "byteLimit": 2048000,
      "rowLimit": 10000
     },
     "inputWidgets": {},
     "nuid": "7df43394-2dc9-442c-8915-f918d7d23d4c",
     "showTitle": false,
     "tableResultSettingsMap": {},
     "title": ""
    }
   },
   "outputs": [
    {
     "name": "stderr",
     "output_type": "stream",
     "text": [
      "/databricks/spark/python/pyspark/sql/connect/expressions.py:1061: UserWarning: WARN WindowExpression: No Partition Defined for Window operation! Moving all data to a single partition, this can cause serious performance degradation.\n",
      "  warnings.warn(\n"
     ]
    },
    {
     "name": "stdout",
     "output_type": "stream",
     "text": [
      "+-------------+-----------+----------------------+------------------+------------------+\n",
      "|Customer_Tier|Total_Sales|Avg_Sales_Per_Customer|     Avg_Frequency|  Avg_Recency_Days|\n",
      "+-------------+-----------+----------------------+------------------+------------------+\n",
      "|         Gold|     100366|    16727.666666666668|1.8333333333333333|             139.0|\n",
      "|       Silver|      50966|               6370.75|             1.875|           135.875|\n",
      "|       Bronze|      26253|    2019.4615384615386|1.8461538461538463|141.46153846153845|\n",
      "+-------------+-----------+----------------------+------------------+------------------+\n",
      "\n"
     ]
    }
   ],
   "source": [
    "from pyspark.sql.functions import avg\n",
    "df_segmented.groupBy(\"Customer_Tier\") \\\n",
    "            .agg(\n",
    "                sum(\"total_monetary_value\").alias(\"Total_Sales\"),\n",
    "                avg(\"total_monetary_value\").alias(\"Avg_Sales_Per_Customer\"),\n",
    "                avg(\"frequency\").alias(\"Avg_Frequency\"),\n",
    "                avg(\"recency_days\").alias(\"Avg_Recency_Days\")\n",
    "            ).orderBy(col(\"Total_Sales\").desc()).show()"
   ]
  },
  {
   "cell_type": "code",
   "execution_count": 0,
   "metadata": {
    "application/vnd.databricks.v1+cell": {
     "cellMetadata": {
      "byteLimit": 2048000,
      "rowLimit": 10000
     },
     "inputWidgets": {},
     "nuid": "aed15cbb-5faf-446b-bb76-a8eb69d9b233",
     "showTitle": false,
     "tableResultSettingsMap": {},
     "title": ""
    }
   },
   "outputs": [
    {
     "name": "stderr",
     "output_type": "stream",
     "text": [
      "/databricks/spark/python/pyspark/sql/connect/expressions.py:1061: UserWarning: WARN WindowExpression: No Partition Defined for Window operation! Moving all data to a single partition, this can cause serious performance degradation.\n",
      "  warnings.warn(\n"
     ]
    },
    {
     "name": "stdout",
     "output_type": "stream",
     "text": [
      "+------------+--------+-----------+\n",
      "|product_name|category|Total_Sales|\n",
      "+------------+--------+-----------+\n",
      "+------------+--------+-----------+\n",
      "\n"
     ]
    }
   ],
   "source": [
    "df_sales.join(df_segmented.select(\"customer_id\", \"Customer_Tier\"), \"customer_id\") \\\n",
    "        .filter(col(\"Customer_Tier\") == \"Gold\") \\\n",
    "        .groupBy(\"product_name\", \"category\") \\\n",
    "        .agg(sum(\"total_sale_amount\").alias(\"Total_Sales\")) \\\n",
    "        .orderBy(col(\"Total_Sales\").desc()) \\\n",
    "        .show(10)"
   ]
  },
  {
   "cell_type": "code",
   "execution_count": 0,
   "metadata": {
    "application/vnd.databricks.v1+cell": {
     "cellMetadata": {
      "byteLimit": 2048000,
      "rowLimit": 10000
     },
     "inputWidgets": {},
     "nuid": "f3cc61de-270d-4909-88db-6786c3e42c91",
     "showTitle": false,
     "tableResultSettingsMap": {},
     "title": ""
    }
   },
   "outputs": [
    {
     "name": "stderr",
     "output_type": "stream",
     "text": [
      "/databricks/spark/python/pyspark/sql/connect/expressions.py:1061: UserWarning: WARN WindowExpression: No Partition Defined for Window operation! Moving all data to a single partition, this can cause serious performance degradation.\n",
      "  warnings.warn(\n"
     ]
    },
    {
     "data": {
      "text/html": [
       "<style scoped>\n",
       "  .table-result-container {\n",
       "    max-height: 300px;\n",
       "    overflow: auto;\n",
       "  }\n",
       "  table, th, td {\n",
       "    border: 1px solid black;\n",
       "    border-collapse: collapse;\n",
       "  }\n",
       "  th, td {\n",
       "    padding: 5px;\n",
       "  }\n",
       "  th {\n",
       "    text-align: left;\n",
       "  }\n",
       "</style><div class='table-result-container'><table class='table-result'><thead style='background-color: white'><tr><th>country</th><th>Customer_Tier</th><th>Customer_Count</th></tr></thead><tbody><tr><td>Egypt</td><td>Bronze</td><td>4</td></tr><tr><td>Egypt</td><td>Gold</td><td>1</td></tr><tr><td>Egypt</td><td>Silver</td><td>4</td></tr><tr><td>Saudi Arabia</td><td>Bronze</td><td>5</td></tr><tr><td>Saudi Arabia</td><td>Gold</td><td>3</td></tr><tr><td>Saudi Arabia</td><td>Silver</td><td>1</td></tr><tr><td>UAE</td><td>Bronze</td><td>4</td></tr><tr><td>UAE</td><td>Gold</td><td>2</td></tr><tr><td>UAE</td><td>Silver</td><td>3</td></tr></tbody></table></div>"
      ]
     },
     "metadata": {
      "application/vnd.databricks.v1+output": {
       "addedWidgets": {},
       "aggData": [],
       "aggError": "",
       "aggOverflow": false,
       "aggSchema": [],
       "aggSeriesLimitReached": false,
       "aggType": "",
       "arguments": {},
       "columnCustomDisplayInfos": {},
       "data": [
        [
         "Egypt",
         "Bronze",
         4
        ],
        [
         "Egypt",
         "Gold",
         1
        ],
        [
         "Egypt",
         "Silver",
         4
        ],
        [
         "Saudi Arabia",
         "Bronze",
         5
        ],
        [
         "Saudi Arabia",
         "Gold",
         3
        ],
        [
         "Saudi Arabia",
         "Silver",
         1
        ],
        [
         "UAE",
         "Bronze",
         4
        ],
        [
         "UAE",
         "Gold",
         2
        ],
        [
         "UAE",
         "Silver",
         3
        ]
       ],
       "datasetInfos": [],
       "dbfsResultPath": null,
       "isJsonSchema": true,
       "metadata": {},
       "overflow": false,
       "plotOptions": {
        "customPlotOptions": {},
        "displayType": "table",
        "pivotAggregation": null,
        "pivotColumns": null,
        "xColumns": null,
        "yColumns": null
       },
       "removedWidgets": [],
       "schema": [
        {
         "metadata": "{}",
         "name": "country",
         "type": "\"string\""
        },
        {
         "metadata": "{}",
         "name": "Customer_Tier",
         "type": "\"string\""
        },
        {
         "metadata": "{}",
         "name": "Customer_Count",
         "type": "\"long\""
        }
       ],
       "type": "table"
      }
     },
     "output_type": "display_data"
    }
   ],
   "source": [
    "from pyspark.sql.functions import count\n",
    "\n",
    "df_segmented_grouped = (\n",
    "    df_segmented\n",
    "    .groupBy(\"country\", \"Customer_Tier\")\n",
    "    .agg(count(\"customer_id\").alias(\"Customer_Count\"))\n",
    "    .orderBy(\"country\", \"Customer_Tier\")\n",
    ")\n",
    "\n",
    "display(df_segmented_grouped)"
   ]
  },
  {
   "cell_type": "code",
   "execution_count": 0,
   "metadata": {
    "application/vnd.databricks.v1+cell": {
     "cellMetadata": {
      "byteLimit": 2048000,
      "rowLimit": 10000
     },
     "inputWidgets": {},
     "nuid": "ebe76cec-0bd1-43e8-8a5f-59ab88e03187",
     "showTitle": false,
     "tableResultSettingsMap": {},
     "title": ""
    }
   },
   "outputs": [
    {
     "name": "stdout",
     "output_type": "stream",
     "text": [
      "--- 4. تحليل المتاجر والطبقات ---\n"
     ]
    },
    {
     "name": "stderr",
     "output_type": "stream",
     "text": [
      "/databricks/spark/python/pyspark/sql/connect/expressions.py:1061: UserWarning: WARN WindowExpression: No Partition Defined for Window operation! Moving all data to a single partition, this can cause serious performance degradation.\n",
      "  warnings.warn(\n"
     ]
    },
    {
     "name": "stdout",
     "output_type": "stream",
     "text": [
      "+--------------------+------------+-------------+-----------+\n",
      "|          store_name|    location|Customer_Tier|Total_Sales|\n",
      "+--------------------+------------+-------------+-----------+\n",
      "|   High Street Store|Saudi Arabia|         Gold|      72187|\n",
      "|Cairo Festival Ci...|       Egypt|       Silver|      31975|\n",
      "|Cairo Festival Ci...|       Egypt|         Gold|      23986|\n",
      "|   Tech World Outlet|       Qatar|       Bronze|      10177|\n",
      "|   High Street Store|Saudi Arabia|       Silver|       9799|\n",
      "|     City Mall Store|         UAE|       Silver|       7596|\n",
      "|     City Mall Store|         UAE|       Bronze|       6190|\n",
      "|   High Street Store|Saudi Arabia|       Bronze|       6000|\n",
      "|          Mega Plaza|      Kuwait|         Gold|       4193|\n",
      "|          Mega Plaza|      Kuwait|       Bronze|       3886|\n",
      "|   Tech World Outlet|       Qatar|       Silver|       1596|\n",
      "+--------------------+------------+-------------+-----------+\n",
      "\n"
     ]
    }
   ],
   "source": [
    "print(\"--- 4. تحليل المتاجر والطبقات ---\")\n",
    "df_sales.join(df_store, \"store_id\") \\\n",
    "        .join(df_segmented.select(\"customer_id\", \"Customer_Tier\"),\n",
    "              df_sales[\"customer_id\"] + 900 == df_segmented[\"customer_id\"]) \\\n",
    "        .groupBy(\"store_name\", \"location\", \"Customer_Tier\") \\\n",
    "        .agg(sum(\"total_sale_amount\").alias(\"Total_Sales\")) \\\n",
    "        .orderBy(col(\"Total_Sales\").desc()) \\\n",
    "        .show()"
   ]
  },
  {
   "cell_type": "code",
   "execution_count": 0,
   "metadata": {
    "application/vnd.databricks.v1+cell": {
     "cellMetadata": {
      "byteLimit": 2048000,
      "rowLimit": 10000
     },
     "inputWidgets": {},
     "nuid": "814e0e5d-76b4-496c-a085-e8862b03bcfe",
     "showTitle": false,
     "tableResultSettingsMap": {},
     "title": ""
    }
   },
   "outputs": [
    {
     "name": "stderr",
     "output_type": "stream",
     "text": [
      "/databricks/spark/python/pyspark/sql/connect/expressions.py:1061: UserWarning: WARN WindowExpression: No Partition Defined for Window operation! Moving all data to a single partition, this can cause serious performance degradation.\n",
      "  warnings.warn(\n"
     ]
    },
    {
     "name": "stdout",
     "output_type": "stream",
     "text": [
      "--- 🚀 تم حفظ الملفات بنجاح وجاهزة لـ Power BI ---\n"
     ]
    }
   ],
   "source": [
    "\n",
    "df_final_report = df_segmented.select(\n",
    "    \"customer_id\", \"full_name\", \"country\", \"registration_date\",\n",
    "    \"total_monetary_value\", \"frequency\", \"recency_days\", \"Customer_Tier\"\n",
    ")\n",
    "\n",
    "df_final_report.write.mode(\"overwrite\").parquet(\"wasbs://filesp1@kirostoragep1.blob.core.windows.net/analysis_results/customer_segmented_report\")\n",
    "\n",
    "\n",
    "\n",
    "df_sales_joined = df_sales.join(df_customers, df_sales[\"customer_id\"] + 900 == df_customers[\"customer_id\"]) \\\n",
    "                            .join(df_store, \"store_id\")\n",
    "\n",
    "df_sales_detailed = df_sales_joined.select(\n",
    "    \"transaction_id\",\n",
    "    df_customers[\"customer_id\"], \n",
    "    \"product_id\",\n",
    "    \"store_id\",\n",
    "    \"quantity\",\n",
    "    \"transaction_date\",\n",
    "    \"price\",\n",
    "    \"total_sale_amount\",\n",
    "    \"product_name\",\n",
    "    \"category\",\n",
    "    \"country\",\n",
    "    \"store_name\",\n",
    "    \"location\"\n",
    ")\n",
    "\n",
    "df_sales_detailed.write.mode(\"overwrite\").parquet(\"wasbs://filesp1@kirostoragep1.blob.core.windows.net/analysis_results/fact_sales_detailed\")\n",
    "\n",
    "print(\"--- 🚀 تم حفظ الملفات بنجاح وجاهزة لـ Power BI ---\")"
   ]
  }
 ],
 "metadata": {
  "application/vnd.databricks.v1+notebook": {
   "computePreferences": null,
   "dashboards": [],
   "environmentMetadata": {
    "base_environment": "",
    "environment_version": "4"
   },
   "inputWidgetPreferences": null,
   "language": "python",
   "notebookMetadata": {
    "pythonIndentUnit": 4
   },
   "notebookName": "Untitled Notebook 2025-10-21 21:54:25",
   "widgets": {}
  },
  "kernelspec": {
   "display_name": "Python 3",
   "language": "python",
   "name": "python3"
  },
  "language_info": {
   "codemirror_mode": {
    "name": "ipython",
    "version": 3
   },
   "file_extension": ".py",
   "mimetype": "text/x-python",
   "name": "python",
   "nbconvert_exporter": "python",
   "pygments_lexer": "ipython3",
   "version": "3.13.0"
  }
 },
 "nbformat": 4,
 "nbformat_minor": 0
}
